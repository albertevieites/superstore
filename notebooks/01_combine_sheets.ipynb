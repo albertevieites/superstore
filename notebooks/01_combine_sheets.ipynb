{
 "cells": [
  {
   "cell_type": "code",
   "execution_count": 1,
   "id": "initial_id",
   "metadata": {
    "collapsed": true,
    "ExecuteTime": {
     "end_time": "2024-02-06T21:01:56.129867Z",
     "start_time": "2024-02-06T21:01:37.206681Z"
    }
   },
   "outputs": [],
   "source": [
    "import pandas as pd\n",
    "import numpy as np"
   ]
  },
  {
   "cell_type": "markdown",
   "source": [
    "## Orders Sheet"
   ],
   "metadata": {
    "collapsed": false
   },
   "id": "295c65e7debd1faf"
  },
  {
   "cell_type": "code",
   "outputs": [
    {
     "data": {
      "text/plain": "   Row ID                  Order ID Order Date  Ship Date     Ship Mode  \\\n0   40098  CA-2014-AB10015140-41954 2014-11-11 2014-11-13   First Class   \n1   26341    IN-2014-JR162107-41675 2014-02-05 2014-02-07  Second Class   \n2   25330    IN-2014-CR127307-41929 2014-10-17 2014-10-18   First Class   \n3   13524   ES-2014-KM1637548-41667 2014-01-28 2014-01-30   First Class   \n4   47221   SG-2014-RH9495111-41948 2014-11-05 2014-11-06      Same Day   \n\n    Customer ID     Customer Name      Segment  Postal Code           City  \\\n0  AB-100151402     Aaron Bergman     Consumer      73120.0  Oklahoma City   \n1     JR-162107     Justin Ritter    Corporate          NaN     Wollongong   \n2     CR-127307      Craig Reiter     Consumer          NaN       Brisbane   \n3    KM-1637548  Katherine Murray  Home Office          NaN         Berlin   \n4    RH-9495111       Rick Hansen     Consumer          NaN          Dakar   \n\n   ...   Product ID    Category Sub-Category  \\\n0  ...  TEC-PH-5816  Technology       Phones   \n1  ...  FUR-CH-5379   Furniture       Chairs   \n2  ...  TEC-PH-5356  Technology       Phones   \n3  ...  TEC-PH-5267  Technology       Phones   \n4  ...  TEC-CO-6011  Technology      Copiers   \n\n                                Product Name     Sales Quantity Discount  \\\n0                           Samsung Convoy 3   221.980        2      0.0   \n1  Novimex Executive Leather Armchair, Black  3709.395        9      0.1   \n2          Nokia Smart Phone, with Caller ID  5175.171        9      0.1   \n3             Motorola Smart Phone, Cordless  2892.510        5      0.1   \n4             Sharp Wireless Fax, High-Speed  2832.960        8      0.0   \n\n     Profit  Shipping Cost  Order Priority  \n0   62.1544          40.77            High  \n1 -288.7650         923.63        Critical  \n2  919.9710         915.49          Medium  \n3  -96.5400         910.16          Medium  \n4  311.5200         903.04        Critical  \n\n[5 rows x 24 columns]",
      "text/html": "<div>\n<style scoped>\n    .dataframe tbody tr th:only-of-type {\n        vertical-align: middle;\n    }\n\n    .dataframe tbody tr th {\n        vertical-align: top;\n    }\n\n    .dataframe thead th {\n        text-align: right;\n    }\n</style>\n<table border=\"1\" class=\"dataframe\">\n  <thead>\n    <tr style=\"text-align: right;\">\n      <th></th>\n      <th>Row ID</th>\n      <th>Order ID</th>\n      <th>Order Date</th>\n      <th>Ship Date</th>\n      <th>Ship Mode</th>\n      <th>Customer ID</th>\n      <th>Customer Name</th>\n      <th>Segment</th>\n      <th>Postal Code</th>\n      <th>City</th>\n      <th>...</th>\n      <th>Product ID</th>\n      <th>Category</th>\n      <th>Sub-Category</th>\n      <th>Product Name</th>\n      <th>Sales</th>\n      <th>Quantity</th>\n      <th>Discount</th>\n      <th>Profit</th>\n      <th>Shipping Cost</th>\n      <th>Order Priority</th>\n    </tr>\n  </thead>\n  <tbody>\n    <tr>\n      <th>0</th>\n      <td>40098</td>\n      <td>CA-2014-AB10015140-41954</td>\n      <td>2014-11-11</td>\n      <td>2014-11-13</td>\n      <td>First Class</td>\n      <td>AB-100151402</td>\n      <td>Aaron Bergman</td>\n      <td>Consumer</td>\n      <td>73120.0</td>\n      <td>Oklahoma City</td>\n      <td>...</td>\n      <td>TEC-PH-5816</td>\n      <td>Technology</td>\n      <td>Phones</td>\n      <td>Samsung Convoy 3</td>\n      <td>221.980</td>\n      <td>2</td>\n      <td>0.0</td>\n      <td>62.1544</td>\n      <td>40.77</td>\n      <td>High</td>\n    </tr>\n    <tr>\n      <th>1</th>\n      <td>26341</td>\n      <td>IN-2014-JR162107-41675</td>\n      <td>2014-02-05</td>\n      <td>2014-02-07</td>\n      <td>Second Class</td>\n      <td>JR-162107</td>\n      <td>Justin Ritter</td>\n      <td>Corporate</td>\n      <td>NaN</td>\n      <td>Wollongong</td>\n      <td>...</td>\n      <td>FUR-CH-5379</td>\n      <td>Furniture</td>\n      <td>Chairs</td>\n      <td>Novimex Executive Leather Armchair, Black</td>\n      <td>3709.395</td>\n      <td>9</td>\n      <td>0.1</td>\n      <td>-288.7650</td>\n      <td>923.63</td>\n      <td>Critical</td>\n    </tr>\n    <tr>\n      <th>2</th>\n      <td>25330</td>\n      <td>IN-2014-CR127307-41929</td>\n      <td>2014-10-17</td>\n      <td>2014-10-18</td>\n      <td>First Class</td>\n      <td>CR-127307</td>\n      <td>Craig Reiter</td>\n      <td>Consumer</td>\n      <td>NaN</td>\n      <td>Brisbane</td>\n      <td>...</td>\n      <td>TEC-PH-5356</td>\n      <td>Technology</td>\n      <td>Phones</td>\n      <td>Nokia Smart Phone, with Caller ID</td>\n      <td>5175.171</td>\n      <td>9</td>\n      <td>0.1</td>\n      <td>919.9710</td>\n      <td>915.49</td>\n      <td>Medium</td>\n    </tr>\n    <tr>\n      <th>3</th>\n      <td>13524</td>\n      <td>ES-2014-KM1637548-41667</td>\n      <td>2014-01-28</td>\n      <td>2014-01-30</td>\n      <td>First Class</td>\n      <td>KM-1637548</td>\n      <td>Katherine Murray</td>\n      <td>Home Office</td>\n      <td>NaN</td>\n      <td>Berlin</td>\n      <td>...</td>\n      <td>TEC-PH-5267</td>\n      <td>Technology</td>\n      <td>Phones</td>\n      <td>Motorola Smart Phone, Cordless</td>\n      <td>2892.510</td>\n      <td>5</td>\n      <td>0.1</td>\n      <td>-96.5400</td>\n      <td>910.16</td>\n      <td>Medium</td>\n    </tr>\n    <tr>\n      <th>4</th>\n      <td>47221</td>\n      <td>SG-2014-RH9495111-41948</td>\n      <td>2014-11-05</td>\n      <td>2014-11-06</td>\n      <td>Same Day</td>\n      <td>RH-9495111</td>\n      <td>Rick Hansen</td>\n      <td>Consumer</td>\n      <td>NaN</td>\n      <td>Dakar</td>\n      <td>...</td>\n      <td>TEC-CO-6011</td>\n      <td>Technology</td>\n      <td>Copiers</td>\n      <td>Sharp Wireless Fax, High-Speed</td>\n      <td>2832.960</td>\n      <td>8</td>\n      <td>0.0</td>\n      <td>311.5200</td>\n      <td>903.04</td>\n      <td>Critical</td>\n    </tr>\n  </tbody>\n</table>\n<p>5 rows × 24 columns</p>\n</div>"
     },
     "execution_count": 2,
     "metadata": {},
     "output_type": "execute_result"
    }
   ],
   "source": [
    "df_orders = pd.read_excel(\"../data/global_superstore_2016.xlsx\", sheet_name='Orders')\n",
    "df_orders.head()"
   ],
   "metadata": {
    "collapsed": false,
    "ExecuteTime": {
     "end_time": "2024-02-06T21:03:10.275692Z",
     "start_time": "2024-02-06T21:01:55.988463Z"
    }
   },
   "id": "14b0a26c482ef25f",
   "execution_count": 2
  },
  {
   "cell_type": "code",
   "outputs": [
    {
     "name": "stdout",
     "output_type": "stream",
     "text": [
      "<class 'pandas.core.frame.DataFrame'>\n",
      "RangeIndex: 51290 entries, 0 to 51289\n",
      "Data columns (total 24 columns):\n",
      " #   Column          Non-Null Count  Dtype         \n",
      "---  ------          --------------  -----         \n",
      " 0   Row ID          51290 non-null  int64         \n",
      " 1   Order ID        51290 non-null  object        \n",
      " 2   Order Date      51290 non-null  datetime64[ns]\n",
      " 3   Ship Date       51290 non-null  datetime64[ns]\n",
      " 4   Ship Mode       51290 non-null  object        \n",
      " 5   Customer ID     51290 non-null  object        \n",
      " 6   Customer Name   51290 non-null  object        \n",
      " 7   Segment         51290 non-null  object        \n",
      " 8   Postal Code     9994 non-null   float64       \n",
      " 9   City            51290 non-null  object        \n",
      " 10  State           51290 non-null  object        \n",
      " 11  Country         51290 non-null  object        \n",
      " 12  Region          51290 non-null  object        \n",
      " 13  Market          51290 non-null  object        \n",
      " 14  Product ID      51290 non-null  object        \n",
      " 15  Category        51290 non-null  object        \n",
      " 16  Sub-Category    51290 non-null  object        \n",
      " 17  Product Name    51290 non-null  object        \n",
      " 18  Sales           51290 non-null  float64       \n",
      " 19  Quantity        51290 non-null  int64         \n",
      " 20  Discount        51290 non-null  float64       \n",
      " 21  Profit          51290 non-null  float64       \n",
      " 22  Shipping Cost   51290 non-null  float64       \n",
      " 23  Order Priority  51290 non-null  object        \n",
      "dtypes: datetime64[ns](2), float64(5), int64(2), object(15)\n",
      "memory usage: 9.4+ MB\n"
     ]
    }
   ],
   "source": [
    "df_orders.info()"
   ],
   "metadata": {
    "collapsed": false,
    "ExecuteTime": {
     "end_time": "2024-02-06T21:03:10.509075Z",
     "start_time": "2024-02-06T21:03:10.146691Z"
    }
   },
   "id": "2279feec0dc7435e",
   "execution_count": 3
  },
  {
   "cell_type": "code",
   "outputs": [
    {
     "data": {
      "text/plain": "array(['Phones', 'Chairs', 'Copiers', 'Tables', 'Bookcases', 'Art',\n       'Appliances', 'Storage', 'Fasteners', 'Machines', 'Accessories',\n       'Furnishings', 'Binders', 'Labels', 'Paper', 'Supplies',\n       'Envelopes'], dtype=object)"
     },
     "execution_count": 4,
     "metadata": {},
     "output_type": "execute_result"
    }
   ],
   "source": [
    "df_orders['Sub-Category'].unique()"
   ],
   "metadata": {
    "collapsed": false,
    "ExecuteTime": {
     "end_time": "2024-02-06T21:03:10.599968Z",
     "start_time": "2024-02-06T21:03:10.235021Z"
    }
   },
   "id": "54e7f949637d398a",
   "execution_count": 4
  },
  {
   "cell_type": "code",
   "outputs": [
    {
     "data": {
      "text/plain": "array(['Canada', 'Caribbean', 'Central Africa', 'Central America',\n       'Central Asia', 'Central US', 'Eastern Africa', 'Eastern Asia',\n       'Eastern Europe', 'Eastern US', 'North Africa', 'Northern Europe',\n       'Oceania', 'South America', 'Southeastern Asia', 'Southern Africa',\n       'Southern Asia', 'Southern Europe', 'Southern US',\n       'Western Africa', 'Western Asia', 'Western Europe', 'Western US'],\n      dtype=object)"
     },
     "execution_count": 5,
     "metadata": {},
     "output_type": "execute_result"
    }
   ],
   "source": [
    "np.sort(df_orders[\"Region\"].unique())"
   ],
   "metadata": {
    "collapsed": false,
    "ExecuteTime": {
     "end_time": "2024-02-06T21:03:10.603763Z",
     "start_time": "2024-02-06T21:03:10.275882Z"
    }
   },
   "id": "91909c25f73743cc",
   "execution_count": 5
  },
  {
   "cell_type": "code",
   "outputs": [
    {
     "data": {
      "text/plain": "array(['Technology', 'Furniture', 'Office Supplies'], dtype=object)"
     },
     "execution_count": 6,
     "metadata": {},
     "output_type": "execute_result"
    }
   ],
   "source": [
    "df_orders[\"Category\"].unique()"
   ],
   "metadata": {
    "collapsed": false,
    "ExecuteTime": {
     "end_time": "2024-02-06T21:03:10.666366Z",
     "start_time": "2024-02-06T21:03:10.304043Z"
    }
   },
   "id": "7605988ba0e353b0",
   "execution_count": 6
  },
  {
   "cell_type": "markdown",
   "source": [
    "# People Sheet"
   ],
   "metadata": {
    "collapsed": false
   },
   "id": "2dfb7ffd4f6e9daf"
  },
  {
   "cell_type": "code",
   "outputs": [
    {
     "data": {
      "text/plain": "                  Person             Region\n0      Marilène Rousseau          Caribbean\n1       Andile Ihejirika     Central Africa\n2      Nicodemo Bautista    Central America\n3         Cansu Peynirci       Central Asia\n4             Lon Bonher         Central US\n5           Wasswa Ahmed     Eastern Africa\n6          Hadia Bousaid       Eastern Asia\n7         Lynne Marchand     Eastern Canada\n8          Oxana Lagunov     Eastern Europe\n9          Dolores Davis         Eastern US\n10      Lindiwe Afolayan       North Africa\n11          Miina Nylund    Northern Europe\n12           Kauri Anaru            Oceania\n13       Vasco Magalhães      South America\n14      Preecha Metharom  Southeastern Asia\n15          Nora Cuijper    Southern Africa\n16  Chandrakant Chaudhri      Southern Asia\n17           Gavino Bove    Southern Europe\n18       Flannery Newton        Southern US\n19        Katlego Akosua     Western Africa\n20             Kaoru Xun       Western Asia\n21        Angela Jephson     Western Canada\n22         Gilbert Wolff     Western Europe\n23       Derrick Snyders         Western US",
      "text/html": "<div>\n<style scoped>\n    .dataframe tbody tr th:only-of-type {\n        vertical-align: middle;\n    }\n\n    .dataframe tbody tr th {\n        vertical-align: top;\n    }\n\n    .dataframe thead th {\n        text-align: right;\n    }\n</style>\n<table border=\"1\" class=\"dataframe\">\n  <thead>\n    <tr style=\"text-align: right;\">\n      <th></th>\n      <th>Person</th>\n      <th>Region</th>\n    </tr>\n  </thead>\n  <tbody>\n    <tr>\n      <th>0</th>\n      <td>Marilène Rousseau</td>\n      <td>Caribbean</td>\n    </tr>\n    <tr>\n      <th>1</th>\n      <td>Andile Ihejirika</td>\n      <td>Central Africa</td>\n    </tr>\n    <tr>\n      <th>2</th>\n      <td>Nicodemo Bautista</td>\n      <td>Central America</td>\n    </tr>\n    <tr>\n      <th>3</th>\n      <td>Cansu Peynirci</td>\n      <td>Central Asia</td>\n    </tr>\n    <tr>\n      <th>4</th>\n      <td>Lon Bonher</td>\n      <td>Central US</td>\n    </tr>\n    <tr>\n      <th>5</th>\n      <td>Wasswa Ahmed</td>\n      <td>Eastern Africa</td>\n    </tr>\n    <tr>\n      <th>6</th>\n      <td>Hadia Bousaid</td>\n      <td>Eastern Asia</td>\n    </tr>\n    <tr>\n      <th>7</th>\n      <td>Lynne Marchand</td>\n      <td>Eastern Canada</td>\n    </tr>\n    <tr>\n      <th>8</th>\n      <td>Oxana Lagunov</td>\n      <td>Eastern Europe</td>\n    </tr>\n    <tr>\n      <th>9</th>\n      <td>Dolores Davis</td>\n      <td>Eastern US</td>\n    </tr>\n    <tr>\n      <th>10</th>\n      <td>Lindiwe Afolayan</td>\n      <td>North Africa</td>\n    </tr>\n    <tr>\n      <th>11</th>\n      <td>Miina Nylund</td>\n      <td>Northern Europe</td>\n    </tr>\n    <tr>\n      <th>12</th>\n      <td>Kauri Anaru</td>\n      <td>Oceania</td>\n    </tr>\n    <tr>\n      <th>13</th>\n      <td>Vasco Magalhães</td>\n      <td>South America</td>\n    </tr>\n    <tr>\n      <th>14</th>\n      <td>Preecha Metharom</td>\n      <td>Southeastern Asia</td>\n    </tr>\n    <tr>\n      <th>15</th>\n      <td>Nora Cuijper</td>\n      <td>Southern Africa</td>\n    </tr>\n    <tr>\n      <th>16</th>\n      <td>Chandrakant Chaudhri</td>\n      <td>Southern Asia</td>\n    </tr>\n    <tr>\n      <th>17</th>\n      <td>Gavino Bove</td>\n      <td>Southern Europe</td>\n    </tr>\n    <tr>\n      <th>18</th>\n      <td>Flannery Newton</td>\n      <td>Southern US</td>\n    </tr>\n    <tr>\n      <th>19</th>\n      <td>Katlego Akosua</td>\n      <td>Western Africa</td>\n    </tr>\n    <tr>\n      <th>20</th>\n      <td>Kaoru Xun</td>\n      <td>Western Asia</td>\n    </tr>\n    <tr>\n      <th>21</th>\n      <td>Angela Jephson</td>\n      <td>Western Canada</td>\n    </tr>\n    <tr>\n      <th>22</th>\n      <td>Gilbert Wolff</td>\n      <td>Western Europe</td>\n    </tr>\n    <tr>\n      <th>23</th>\n      <td>Derrick Snyders</td>\n      <td>Western US</td>\n    </tr>\n  </tbody>\n</table>\n</div>"
     },
     "execution_count": 7,
     "metadata": {},
     "output_type": "execute_result"
    }
   ],
   "source": [
    "df_people=pd.read_excel(\"../data/global_superstore_2016.xlsx\", sheet_name=\"People\")\n",
    "df_people"
   ],
   "metadata": {
    "collapsed": false,
    "ExecuteTime": {
     "end_time": "2024-02-06T21:03:13.832545Z",
     "start_time": "2024-02-06T21:03:10.329223Z"
    }
   },
   "id": "35b660361c9b90dc",
   "execution_count": 7
  },
  {
   "cell_type": "code",
   "outputs": [
    {
     "name": "stdout",
     "output_type": "stream",
     "text": [
      "<class 'pandas.core.frame.DataFrame'>\n",
      "RangeIndex: 24 entries, 0 to 23\n",
      "Data columns (total 2 columns):\n",
      " #   Column  Non-Null Count  Dtype \n",
      "---  ------  --------------  ----- \n",
      " 0   Person  24 non-null     object\n",
      " 1   Region  24 non-null     object\n",
      "dtypes: object(2)\n",
      "memory usage: 512.0+ bytes\n"
     ]
    }
   ],
   "source": [
    "df_people.info()"
   ],
   "metadata": {
    "collapsed": false,
    "ExecuteTime": {
     "end_time": "2024-02-06T21:03:13.870117Z",
     "start_time": "2024-02-06T21:03:13.820079Z"
    }
   },
   "id": "1f69b30d37f0313b",
   "execution_count": 8
  },
  {
   "cell_type": "code",
   "outputs": [
    {
     "data": {
      "text/plain": "array(['Marilène Rousseau', 'Andile\\xa0Ihejirika', 'Nicodemo Bautista',\n       'Cansu Peynirci', 'Lon Bonher', 'Wasswa\\xa0Ahmed', 'Hadia Bousaid',\n       'Lynne Marchand', 'Oxana Lagunov', 'Dolores Davis',\n       'Lindiwe\\xa0Afolayan', 'Miina Nylund', 'Kauri Anaru',\n       'Vasco Magalhães', 'Preecha Metharom', 'Nora Cuijper',\n       'Chandrakant Chaudhri', 'Gavino Bove', 'Flannery Newton',\n       'Katlego Akosua', 'Kaoru Xun', 'Angela Jephson', 'Gilbert Wolff',\n       'Derrick Snyders'], dtype=object)"
     },
     "execution_count": 22,
     "metadata": {},
     "output_type": "execute_result"
    }
   ],
   "source": [
    "df_people[\"Person\"].unique()"
   ],
   "metadata": {
    "collapsed": false,
    "ExecuteTime": {
     "end_time": "2024-02-06T21:05:24.022193Z",
     "start_time": "2024-02-06T21:05:23.723285Z"
    }
   },
   "id": "b9680bbec0474041",
   "execution_count": 22
  },
  {
   "cell_type": "code",
   "outputs": [
    {
     "data": {
      "text/plain": "0             Caribbean\n1        Central Africa\n2       Central America\n3          Central Asia\n4            Central US\n5        Eastern Africa\n6          Eastern Asia\n7                Canada\n8        Eastern Europe\n9            Eastern US\n10         North Africa\n11      Northern Europe\n12              Oceania\n13        South America\n14    Southeastern Asia\n15      Southern Africa\n16        Southern Asia\n17      Southern Europe\n18          Southern US\n19       Western Africa\n20         Western Asia\n21               Canada\n22       Western Europe\n23           Western US\nName: Region, dtype: object"
     },
     "execution_count": 9,
     "metadata": {},
     "output_type": "execute_result"
    }
   ],
   "source": [
    "df_people[\"Region\"].replace({\"Eastern Canada\": \"Canada\", \"Western Canada\": \"Canada\"})"
   ],
   "metadata": {
    "collapsed": false,
    "ExecuteTime": {
     "end_time": "2024-02-06T21:03:13.986127Z",
     "start_time": "2024-02-06T21:03:13.830089Z"
    }
   },
   "id": "5feb6387b6fef97b",
   "execution_count": 9
  },
  {
   "cell_type": "markdown",
   "source": [
    "# Returns Sheet"
   ],
   "metadata": {
    "collapsed": false
   },
   "id": "4fdc16445a70b322"
  },
  {
   "cell_type": "code",
   "outputs": [
    {
     "data": {
      "text/plain": "  Returned                  Order ID        Region\n0      Yes  CA-2012-SA20830140-41210    Central US\n1      Yes  IN-2012-PB19210127-41259  Eastern Asia\n2      Yes  CA-2012-SC20095140-41174    Central US\n3      Yes    IN-2015-JH158207-42140       Oceania\n4      Yes    IN-2014-LC168857-41747       Oceania",
      "text/html": "<div>\n<style scoped>\n    .dataframe tbody tr th:only-of-type {\n        vertical-align: middle;\n    }\n\n    .dataframe tbody tr th {\n        vertical-align: top;\n    }\n\n    .dataframe thead th {\n        text-align: right;\n    }\n</style>\n<table border=\"1\" class=\"dataframe\">\n  <thead>\n    <tr style=\"text-align: right;\">\n      <th></th>\n      <th>Returned</th>\n      <th>Order ID</th>\n      <th>Region</th>\n    </tr>\n  </thead>\n  <tbody>\n    <tr>\n      <th>0</th>\n      <td>Yes</td>\n      <td>CA-2012-SA20830140-41210</td>\n      <td>Central US</td>\n    </tr>\n    <tr>\n      <th>1</th>\n      <td>Yes</td>\n      <td>IN-2012-PB19210127-41259</td>\n      <td>Eastern Asia</td>\n    </tr>\n    <tr>\n      <th>2</th>\n      <td>Yes</td>\n      <td>CA-2012-SC20095140-41174</td>\n      <td>Central US</td>\n    </tr>\n    <tr>\n      <th>3</th>\n      <td>Yes</td>\n      <td>IN-2015-JH158207-42140</td>\n      <td>Oceania</td>\n    </tr>\n    <tr>\n      <th>4</th>\n      <td>Yes</td>\n      <td>IN-2014-LC168857-41747</td>\n      <td>Oceania</td>\n    </tr>\n  </tbody>\n</table>\n</div>"
     },
     "execution_count": 10,
     "metadata": {},
     "output_type": "execute_result"
    }
   ],
   "source": [
    "df_returns = pd.read_excel(\"../data/global_superstore_2016.xlsx\", sheet_name=\"Returns\")\n",
    "df_returns.head()"
   ],
   "metadata": {
    "collapsed": false,
    "ExecuteTime": {
     "end_time": "2024-02-06T21:03:18.418980Z",
     "start_time": "2024-02-06T21:03:13.873711Z"
    }
   },
   "id": "62bfa4979ed8d3d4",
   "execution_count": 10
  },
  {
   "cell_type": "code",
   "outputs": [
    {
     "name": "stdout",
     "output_type": "stream",
     "text": [
      "<class 'pandas.core.frame.DataFrame'>\n",
      "RangeIndex: 1079 entries, 0 to 1078\n",
      "Data columns (total 3 columns):\n",
      " #   Column    Non-Null Count  Dtype \n",
      "---  ------    --------------  ----- \n",
      " 0   Returned  1079 non-null   object\n",
      " 1   Order ID  1079 non-null   object\n",
      " 2   Region    1079 non-null   object\n",
      "dtypes: object(3)\n",
      "memory usage: 25.4+ KB\n"
     ]
    }
   ],
   "source": [
    "df_returns.info()"
   ],
   "metadata": {
    "collapsed": false,
    "ExecuteTime": {
     "end_time": "2024-02-06T21:03:18.422272Z",
     "start_time": "2024-02-06T21:03:18.270664Z"
    }
   },
   "id": "3a81233db519c576",
   "execution_count": 11
  },
  {
   "cell_type": "code",
   "outputs": [
    {
     "data": {
      "text/plain": "array(['Caribbean', 'Central Africa', 'Central America', 'Central Asia',\n       'Central US', 'Eastern Africa', 'Eastern Asia', 'Eastern Canada',\n       'Eastern Europe', 'Eastern US', 'North Africa', 'Northern Europe',\n       'Oceania', 'South America', 'Southeastern Asia', 'Southern Africa',\n       'Southern Asia', 'Southern Europe', 'Southern US',\n       'Western Africa', 'Western Asia', 'Western Canada',\n       'Western Europe', 'Western US'], dtype=object)"
     },
     "execution_count": 12,
     "metadata": {},
     "output_type": "execute_result"
    }
   ],
   "source": [
    "np.sort(df_returns[\"Region\"].unique())"
   ],
   "metadata": {
    "collapsed": false,
    "ExecuteTime": {
     "end_time": "2024-02-06T21:03:18.739632Z",
     "start_time": "2024-02-06T21:03:18.289525Z"
    }
   },
   "id": "42339746058e2304",
   "execution_count": 12
  },
  {
   "cell_type": "code",
   "outputs": [
    {
     "data": {
      "text/plain": "array(['Yes'], dtype=object)"
     },
     "execution_count": 13,
     "metadata": {},
     "output_type": "execute_result"
    }
   ],
   "source": [
    "df_returns[\"Returned\"].unique()"
   ],
   "metadata": {
    "collapsed": false,
    "ExecuteTime": {
     "end_time": "2024-02-06T21:03:18.792825Z",
     "start_time": "2024-02-06T21:03:18.311496Z"
    }
   },
   "id": "3c1a8c9a78c8d9ab",
   "execution_count": 13
  },
  {
   "cell_type": "code",
   "outputs": [],
   "source": [
    "df_returns['Region'].replace({'Eastern Canada': 'Canada', 'Western Canada': 'Canada'}, inplace=True)"
   ],
   "metadata": {
    "collapsed": false,
    "ExecuteTime": {
     "end_time": "2024-02-06T21:03:18.795656Z",
     "start_time": "2024-02-06T21:03:18.326390Z"
    }
   },
   "id": "d3bcddef7cc59df5",
   "execution_count": 14
  },
  {
   "cell_type": "markdown",
   "source": [
    "# Merge Dataframes"
   ],
   "metadata": {
    "collapsed": false
   },
   "id": "3016b952976b9945"
  },
  {
   "cell_type": "code",
   "outputs": [
    {
     "data": {
      "text/plain": "   Row ID                  Order ID Order Date  Ship Date     Ship Mode  \\\n0   40098  CA-2014-AB10015140-41954 2014-11-11 2014-11-13   First Class   \n1   26341    IN-2014-JR162107-41675 2014-02-05 2014-02-07  Second Class   \n2   25330    IN-2014-CR127307-41929 2014-10-17 2014-10-18   First Class   \n3   13524   ES-2014-KM1637548-41667 2014-01-28 2014-01-30   First Class   \n4   47221   SG-2014-RH9495111-41948 2014-11-05 2014-11-06      Same Day   \n\n    Customer ID     Customer Name      Segment  Postal Code           City  \\\n0  AB-100151402     Aaron Bergman     Consumer      73120.0  Oklahoma City   \n1     JR-162107     Justin Ritter    Corporate          NaN     Wollongong   \n2     CR-127307      Craig Reiter     Consumer          NaN       Brisbane   \n3    KM-1637548  Katherine Murray  Home Office          NaN         Berlin   \n4    RH-9495111       Rick Hansen     Consumer          NaN          Dakar   \n\n   ...                               Product Name     Sales Quantity Discount  \\\n0  ...                           Samsung Convoy 3   221.980        2      0.0   \n1  ...  Novimex Executive Leather Armchair, Black  3709.395        9      0.1   \n2  ...          Nokia Smart Phone, with Caller ID  5175.171        9      0.1   \n3  ...             Motorola Smart Phone, Cordless  2892.510        5      0.1   \n4  ...             Sharp Wireless Fax, High-Speed  2832.960        8      0.0   \n\n     Profit Shipping Cost Order Priority          Person  Returned  Region_y  \n0   62.1544         40.77           High      Lon Bonher       NaN       NaN  \n1 -288.7650        923.63       Critical     Kauri Anaru       NaN       NaN  \n2  919.9710        915.49         Medium     Kauri Anaru       NaN       NaN  \n3  -96.5400        910.16         Medium   Gilbert Wolff       NaN       NaN  \n4  311.5200        903.04       Critical  Katlego Akosua       NaN       NaN  \n\n[5 rows x 27 columns]",
      "text/html": "<div>\n<style scoped>\n    .dataframe tbody tr th:only-of-type {\n        vertical-align: middle;\n    }\n\n    .dataframe tbody tr th {\n        vertical-align: top;\n    }\n\n    .dataframe thead th {\n        text-align: right;\n    }\n</style>\n<table border=\"1\" class=\"dataframe\">\n  <thead>\n    <tr style=\"text-align: right;\">\n      <th></th>\n      <th>Row ID</th>\n      <th>Order ID</th>\n      <th>Order Date</th>\n      <th>Ship Date</th>\n      <th>Ship Mode</th>\n      <th>Customer ID</th>\n      <th>Customer Name</th>\n      <th>Segment</th>\n      <th>Postal Code</th>\n      <th>City</th>\n      <th>...</th>\n      <th>Product Name</th>\n      <th>Sales</th>\n      <th>Quantity</th>\n      <th>Discount</th>\n      <th>Profit</th>\n      <th>Shipping Cost</th>\n      <th>Order Priority</th>\n      <th>Person</th>\n      <th>Returned</th>\n      <th>Region_y</th>\n    </tr>\n  </thead>\n  <tbody>\n    <tr>\n      <th>0</th>\n      <td>40098</td>\n      <td>CA-2014-AB10015140-41954</td>\n      <td>2014-11-11</td>\n      <td>2014-11-13</td>\n      <td>First Class</td>\n      <td>AB-100151402</td>\n      <td>Aaron Bergman</td>\n      <td>Consumer</td>\n      <td>73120.0</td>\n      <td>Oklahoma City</td>\n      <td>...</td>\n      <td>Samsung Convoy 3</td>\n      <td>221.980</td>\n      <td>2</td>\n      <td>0.0</td>\n      <td>62.1544</td>\n      <td>40.77</td>\n      <td>High</td>\n      <td>Lon Bonher</td>\n      <td>NaN</td>\n      <td>NaN</td>\n    </tr>\n    <tr>\n      <th>1</th>\n      <td>26341</td>\n      <td>IN-2014-JR162107-41675</td>\n      <td>2014-02-05</td>\n      <td>2014-02-07</td>\n      <td>Second Class</td>\n      <td>JR-162107</td>\n      <td>Justin Ritter</td>\n      <td>Corporate</td>\n      <td>NaN</td>\n      <td>Wollongong</td>\n      <td>...</td>\n      <td>Novimex Executive Leather Armchair, Black</td>\n      <td>3709.395</td>\n      <td>9</td>\n      <td>0.1</td>\n      <td>-288.7650</td>\n      <td>923.63</td>\n      <td>Critical</td>\n      <td>Kauri Anaru</td>\n      <td>NaN</td>\n      <td>NaN</td>\n    </tr>\n    <tr>\n      <th>2</th>\n      <td>25330</td>\n      <td>IN-2014-CR127307-41929</td>\n      <td>2014-10-17</td>\n      <td>2014-10-18</td>\n      <td>First Class</td>\n      <td>CR-127307</td>\n      <td>Craig Reiter</td>\n      <td>Consumer</td>\n      <td>NaN</td>\n      <td>Brisbane</td>\n      <td>...</td>\n      <td>Nokia Smart Phone, with Caller ID</td>\n      <td>5175.171</td>\n      <td>9</td>\n      <td>0.1</td>\n      <td>919.9710</td>\n      <td>915.49</td>\n      <td>Medium</td>\n      <td>Kauri Anaru</td>\n      <td>NaN</td>\n      <td>NaN</td>\n    </tr>\n    <tr>\n      <th>3</th>\n      <td>13524</td>\n      <td>ES-2014-KM1637548-41667</td>\n      <td>2014-01-28</td>\n      <td>2014-01-30</td>\n      <td>First Class</td>\n      <td>KM-1637548</td>\n      <td>Katherine Murray</td>\n      <td>Home Office</td>\n      <td>NaN</td>\n      <td>Berlin</td>\n      <td>...</td>\n      <td>Motorola Smart Phone, Cordless</td>\n      <td>2892.510</td>\n      <td>5</td>\n      <td>0.1</td>\n      <td>-96.5400</td>\n      <td>910.16</td>\n      <td>Medium</td>\n      <td>Gilbert Wolff</td>\n      <td>NaN</td>\n      <td>NaN</td>\n    </tr>\n    <tr>\n      <th>4</th>\n      <td>47221</td>\n      <td>SG-2014-RH9495111-41948</td>\n      <td>2014-11-05</td>\n      <td>2014-11-06</td>\n      <td>Same Day</td>\n      <td>RH-9495111</td>\n      <td>Rick Hansen</td>\n      <td>Consumer</td>\n      <td>NaN</td>\n      <td>Dakar</td>\n      <td>...</td>\n      <td>Sharp Wireless Fax, High-Speed</td>\n      <td>2832.960</td>\n      <td>8</td>\n      <td>0.0</td>\n      <td>311.5200</td>\n      <td>903.04</td>\n      <td>Critical</td>\n      <td>Katlego Akosua</td>\n      <td>NaN</td>\n      <td>NaN</td>\n    </tr>\n  </tbody>\n</table>\n<p>5 rows × 27 columns</p>\n</div>"
     },
     "execution_count": 15,
     "metadata": {},
     "output_type": "execute_result"
    }
   ],
   "source": [
    "df_merged = pd.merge(df_orders, df_people, on='Region', how='left')\n",
    "df_final = pd.merge(df_merged, df_returns, on='Order ID', how='left')\n",
    "\n",
    "df_final.head()"
   ],
   "metadata": {
    "collapsed": false,
    "ExecuteTime": {
     "end_time": "2024-02-06T21:03:18.924617Z",
     "start_time": "2024-02-06T21:03:18.339689Z"
    }
   },
   "id": "7dee4e0af7f09bde",
   "execution_count": 15
  },
  {
   "cell_type": "code",
   "outputs": [
    {
     "data": {
      "text/plain": "array([nan, 'Yes'], dtype=object)"
     },
     "execution_count": 16,
     "metadata": {},
     "output_type": "execute_result"
    }
   ],
   "source": [
    "df_final['Returned'].unique()"
   ],
   "metadata": {
    "collapsed": false,
    "ExecuteTime": {
     "end_time": "2024-02-06T21:03:19.182914Z",
     "start_time": "2024-02-06T21:03:18.618612Z"
    }
   },
   "id": "d08a31f61bb3acbe",
   "execution_count": 16
  },
  {
   "cell_type": "code",
   "outputs": [],
   "source": [
    "# Remove some columns\n",
    "columns_to_drop = ['Row ID', 'Customer ID', 'Customer Name', 'Postal Code', 'Region_y', 'Product ID']\n",
    "df_final.drop(columns=columns_to_drop, inplace=True)"
   ],
   "metadata": {
    "collapsed": false,
    "ExecuteTime": {
     "end_time": "2024-02-06T21:03:19.350634Z",
     "start_time": "2024-02-06T21:03:18.640153Z"
    }
   },
   "id": "573a3c4d5c17347c",
   "execution_count": 17
  },
  {
   "cell_type": "code",
   "outputs": [],
   "source": [
    "df_final.rename(columns={'Person': 'Salsespeople', 'Region_x': 'Region'}, inplace=True)"
   ],
   "metadata": {
    "collapsed": false,
    "ExecuteTime": {
     "end_time": "2024-02-06T21:03:19.352075Z",
     "start_time": "2024-02-06T21:03:18.660247Z"
    }
   },
   "id": "f471e5e2fa11df1e",
   "execution_count": 18
  },
  {
   "cell_type": "code",
   "outputs": [],
   "source": [
    "# Imputation of NaN in Returned Column\n",
    "df_final['Returned'] = df_final['Returned'].fillna('No')"
   ],
   "metadata": {
    "collapsed": false,
    "ExecuteTime": {
     "end_time": "2024-02-06T21:03:19.365404Z",
     "start_time": "2024-02-06T21:03:18.672216Z"
    }
   },
   "id": "51e6f3dc9de42fe6",
   "execution_count": 19
  },
  {
   "cell_type": "code",
   "outputs": [
    {
     "data": {
      "text/plain": "                   Order ID Order Date  Ship Date     Ship Mode      Segment  \\\n0  CA-2014-AB10015140-41954 2014-11-11 2014-11-13   First Class     Consumer   \n1    IN-2014-JR162107-41675 2014-02-05 2014-02-07  Second Class    Corporate   \n2    IN-2014-CR127307-41929 2014-10-17 2014-10-18   First Class     Consumer   \n3   ES-2014-KM1637548-41667 2014-01-28 2014-01-30   First Class  Home Office   \n4   SG-2014-RH9495111-41948 2014-11-05 2014-11-06      Same Day     Consumer   \n\n            City            State        Country          Region  \\\n0  Oklahoma City         Oklahoma  United States      Central US   \n1     Wollongong  New South Wales      Australia         Oceania   \n2       Brisbane       Queensland      Australia         Oceania   \n3         Berlin           Berlin        Germany  Western Europe   \n4          Dakar            Dakar        Senegal  Western Africa   \n\n         Market  ... Sub-Category                               Product Name  \\\n0          USCA  ...       Phones                           Samsung Convoy 3   \n1  Asia Pacific  ...       Chairs  Novimex Executive Leather Armchair, Black   \n2  Asia Pacific  ...       Phones          Nokia Smart Phone, with Caller ID   \n3        Europe  ...       Phones             Motorola Smart Phone, Cordless   \n4        Africa  ...      Copiers             Sharp Wireless Fax, High-Speed   \n\n      Sales  Quantity  Discount    Profit  Shipping Cost  Order Priority  \\\n0   221.980         2       0.0   62.1544          40.77            High   \n1  3709.395         9       0.1 -288.7650         923.63        Critical   \n2  5175.171         9       0.1  919.9710         915.49          Medium   \n3  2892.510         5       0.1  -96.5400         910.16          Medium   \n4  2832.960         8       0.0  311.5200         903.04        Critical   \n\n     Salsespeople Returned  \n0      Lon Bonher       No  \n1     Kauri Anaru       No  \n2     Kauri Anaru       No  \n3   Gilbert Wolff       No  \n4  Katlego Akosua       No  \n\n[5 rows x 21 columns]",
      "text/html": "<div>\n<style scoped>\n    .dataframe tbody tr th:only-of-type {\n        vertical-align: middle;\n    }\n\n    .dataframe tbody tr th {\n        vertical-align: top;\n    }\n\n    .dataframe thead th {\n        text-align: right;\n    }\n</style>\n<table border=\"1\" class=\"dataframe\">\n  <thead>\n    <tr style=\"text-align: right;\">\n      <th></th>\n      <th>Order ID</th>\n      <th>Order Date</th>\n      <th>Ship Date</th>\n      <th>Ship Mode</th>\n      <th>Segment</th>\n      <th>City</th>\n      <th>State</th>\n      <th>Country</th>\n      <th>Region</th>\n      <th>Market</th>\n      <th>...</th>\n      <th>Sub-Category</th>\n      <th>Product Name</th>\n      <th>Sales</th>\n      <th>Quantity</th>\n      <th>Discount</th>\n      <th>Profit</th>\n      <th>Shipping Cost</th>\n      <th>Order Priority</th>\n      <th>Salsespeople</th>\n      <th>Returned</th>\n    </tr>\n  </thead>\n  <tbody>\n    <tr>\n      <th>0</th>\n      <td>CA-2014-AB10015140-41954</td>\n      <td>2014-11-11</td>\n      <td>2014-11-13</td>\n      <td>First Class</td>\n      <td>Consumer</td>\n      <td>Oklahoma City</td>\n      <td>Oklahoma</td>\n      <td>United States</td>\n      <td>Central US</td>\n      <td>USCA</td>\n      <td>...</td>\n      <td>Phones</td>\n      <td>Samsung Convoy 3</td>\n      <td>221.980</td>\n      <td>2</td>\n      <td>0.0</td>\n      <td>62.1544</td>\n      <td>40.77</td>\n      <td>High</td>\n      <td>Lon Bonher</td>\n      <td>No</td>\n    </tr>\n    <tr>\n      <th>1</th>\n      <td>IN-2014-JR162107-41675</td>\n      <td>2014-02-05</td>\n      <td>2014-02-07</td>\n      <td>Second Class</td>\n      <td>Corporate</td>\n      <td>Wollongong</td>\n      <td>New South Wales</td>\n      <td>Australia</td>\n      <td>Oceania</td>\n      <td>Asia Pacific</td>\n      <td>...</td>\n      <td>Chairs</td>\n      <td>Novimex Executive Leather Armchair, Black</td>\n      <td>3709.395</td>\n      <td>9</td>\n      <td>0.1</td>\n      <td>-288.7650</td>\n      <td>923.63</td>\n      <td>Critical</td>\n      <td>Kauri Anaru</td>\n      <td>No</td>\n    </tr>\n    <tr>\n      <th>2</th>\n      <td>IN-2014-CR127307-41929</td>\n      <td>2014-10-17</td>\n      <td>2014-10-18</td>\n      <td>First Class</td>\n      <td>Consumer</td>\n      <td>Brisbane</td>\n      <td>Queensland</td>\n      <td>Australia</td>\n      <td>Oceania</td>\n      <td>Asia Pacific</td>\n      <td>...</td>\n      <td>Phones</td>\n      <td>Nokia Smart Phone, with Caller ID</td>\n      <td>5175.171</td>\n      <td>9</td>\n      <td>0.1</td>\n      <td>919.9710</td>\n      <td>915.49</td>\n      <td>Medium</td>\n      <td>Kauri Anaru</td>\n      <td>No</td>\n    </tr>\n    <tr>\n      <th>3</th>\n      <td>ES-2014-KM1637548-41667</td>\n      <td>2014-01-28</td>\n      <td>2014-01-30</td>\n      <td>First Class</td>\n      <td>Home Office</td>\n      <td>Berlin</td>\n      <td>Berlin</td>\n      <td>Germany</td>\n      <td>Western Europe</td>\n      <td>Europe</td>\n      <td>...</td>\n      <td>Phones</td>\n      <td>Motorola Smart Phone, Cordless</td>\n      <td>2892.510</td>\n      <td>5</td>\n      <td>0.1</td>\n      <td>-96.5400</td>\n      <td>910.16</td>\n      <td>Medium</td>\n      <td>Gilbert Wolff</td>\n      <td>No</td>\n    </tr>\n    <tr>\n      <th>4</th>\n      <td>SG-2014-RH9495111-41948</td>\n      <td>2014-11-05</td>\n      <td>2014-11-06</td>\n      <td>Same Day</td>\n      <td>Consumer</td>\n      <td>Dakar</td>\n      <td>Dakar</td>\n      <td>Senegal</td>\n      <td>Western Africa</td>\n      <td>Africa</td>\n      <td>...</td>\n      <td>Copiers</td>\n      <td>Sharp Wireless Fax, High-Speed</td>\n      <td>2832.960</td>\n      <td>8</td>\n      <td>0.0</td>\n      <td>311.5200</td>\n      <td>903.04</td>\n      <td>Critical</td>\n      <td>Katlego Akosua</td>\n      <td>No</td>\n    </tr>\n  </tbody>\n</table>\n<p>5 rows × 21 columns</p>\n</div>"
     },
     "execution_count": 20,
     "metadata": {},
     "output_type": "execute_result"
    }
   ],
   "source": [
    "df_final.head()"
   ],
   "metadata": {
    "collapsed": false,
    "ExecuteTime": {
     "end_time": "2024-02-06T21:03:19.402965Z",
     "start_time": "2024-02-06T21:03:18.683631Z"
    }
   },
   "id": "15f44b1d33d4eea3",
   "execution_count": 20
  },
  {
   "cell_type": "markdown",
   "source": [
    "# Save Final Dataframe as Excel File"
   ],
   "metadata": {
    "collapsed": false
   },
   "id": "96182031918e6640"
  },
  {
   "cell_type": "code",
   "outputs": [],
   "source": [
    "df_final.to_excel('../data/superstore.xlsx', index=False)"
   ],
   "metadata": {
    "collapsed": false,
    "ExecuteTime": {
     "end_time": "2024-02-06T21:05:23.746869Z",
     "start_time": "2024-02-06T21:03:18.745217Z"
    }
   },
   "id": "5c2525772fb9cc3b",
   "execution_count": 21
  }
 ],
 "metadata": {
  "kernelspec": {
   "display_name": "Python 3",
   "language": "python",
   "name": "python3"
  },
  "language_info": {
   "codemirror_mode": {
    "name": "ipython",
    "version": 2
   },
   "file_extension": ".py",
   "mimetype": "text/x-python",
   "name": "python",
   "nbconvert_exporter": "python",
   "pygments_lexer": "ipython2",
   "version": "2.7.6"
  }
 },
 "nbformat": 4,
 "nbformat_minor": 5
}
