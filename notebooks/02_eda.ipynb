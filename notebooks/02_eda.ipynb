{
 "cells": [
  {
   "cell_type": "code",
   "execution_count": 1,
   "id": "initial_id",
   "metadata": {
    "collapsed": true,
    "ExecuteTime": {
     "end_time": "2024-02-05T11:45:45.530871Z",
     "start_time": "2024-02-05T11:45:45.524703Z"
    }
   },
   "outputs": [],
   "source": [
    "import numpy as np\n",
    "import pandas as pd\n",
    "\n",
    "import matplotlib.pyplot as plt\n",
    "import seaborn as sns"
   ]
  },
  {
   "cell_type": "code",
   "outputs": [
    {
     "data": {
      "text/plain": "                   Order ID Order Date  Ship Date     Ship Mode      Segment  \\\n0  CA-2014-AB10015140-41954 2014-11-11 2014-11-13   First Class     Consumer   \n1    IN-2014-JR162107-41675 2014-02-05 2014-02-07  Second Class    Corporate   \n2    IN-2014-CR127307-41929 2014-10-17 2014-10-18   First Class     Consumer   \n3   ES-2014-KM1637548-41667 2014-01-28 2014-01-30   First Class  Home Office   \n4   SG-2014-RH9495111-41948 2014-11-05 2014-11-06      Same Day     Consumer   \n\n            City            State        Country          Region  \\\n0  Oklahoma City         Oklahoma  United States      Central US   \n1     Wollongong  New South Wales      Australia         Oceania   \n2       Brisbane       Queensland      Australia         Oceania   \n3         Berlin           Berlin        Germany  Western Europe   \n4          Dakar            Dakar        Senegal  Western Africa   \n\n         Market  ... Sub-Category                               Product Name  \\\n0          USCA  ...       Phones                           Samsung Convoy 3   \n1  Asia Pacific  ...       Chairs  Novimex Executive Leather Armchair, Black   \n2  Asia Pacific  ...       Phones          Nokia Smart Phone, with Caller ID   \n3        Europe  ...       Phones             Motorola Smart Phone, Cordless   \n4        Africa  ...      Copiers             Sharp Wireless Fax, High-Speed   \n\n      Sales  Quantity  Discount    Profit  Shipping Cost  Order Priority  \\\n0   221.980         2       0.0   62.1544          40.77            High   \n1  3709.395         9       0.1 -288.7650         923.63        Critical   \n2  5175.171         9       0.1  919.9710         915.49          Medium   \n3  2892.510         5       0.1  -96.5400         910.16          Medium   \n4  2832.960         8       0.0  311.5200         903.04        Critical   \n\n     Salsespeople Returned  \n0      Lon Bonher       No  \n1     Kauri Anaru       No  \n2     Kauri Anaru       No  \n3   Gilbert Wolff       No  \n4  Katlego Akosua       No  \n\n[5 rows x 21 columns]",
      "text/html": "<div>\n<style scoped>\n    .dataframe tbody tr th:only-of-type {\n        vertical-align: middle;\n    }\n\n    .dataframe tbody tr th {\n        vertical-align: top;\n    }\n\n    .dataframe thead th {\n        text-align: right;\n    }\n</style>\n<table border=\"1\" class=\"dataframe\">\n  <thead>\n    <tr style=\"text-align: right;\">\n      <th></th>\n      <th>Order ID</th>\n      <th>Order Date</th>\n      <th>Ship Date</th>\n      <th>Ship Mode</th>\n      <th>Segment</th>\n      <th>City</th>\n      <th>State</th>\n      <th>Country</th>\n      <th>Region</th>\n      <th>Market</th>\n      <th>...</th>\n      <th>Sub-Category</th>\n      <th>Product Name</th>\n      <th>Sales</th>\n      <th>Quantity</th>\n      <th>Discount</th>\n      <th>Profit</th>\n      <th>Shipping Cost</th>\n      <th>Order Priority</th>\n      <th>Salsespeople</th>\n      <th>Returned</th>\n    </tr>\n  </thead>\n  <tbody>\n    <tr>\n      <th>0</th>\n      <td>CA-2014-AB10015140-41954</td>\n      <td>2014-11-11</td>\n      <td>2014-11-13</td>\n      <td>First Class</td>\n      <td>Consumer</td>\n      <td>Oklahoma City</td>\n      <td>Oklahoma</td>\n      <td>United States</td>\n      <td>Central US</td>\n      <td>USCA</td>\n      <td>...</td>\n      <td>Phones</td>\n      <td>Samsung Convoy 3</td>\n      <td>221.980</td>\n      <td>2</td>\n      <td>0.0</td>\n      <td>62.1544</td>\n      <td>40.77</td>\n      <td>High</td>\n      <td>Lon Bonher</td>\n      <td>No</td>\n    </tr>\n    <tr>\n      <th>1</th>\n      <td>IN-2014-JR162107-41675</td>\n      <td>2014-02-05</td>\n      <td>2014-02-07</td>\n      <td>Second Class</td>\n      <td>Corporate</td>\n      <td>Wollongong</td>\n      <td>New South Wales</td>\n      <td>Australia</td>\n      <td>Oceania</td>\n      <td>Asia Pacific</td>\n      <td>...</td>\n      <td>Chairs</td>\n      <td>Novimex Executive Leather Armchair, Black</td>\n      <td>3709.395</td>\n      <td>9</td>\n      <td>0.1</td>\n      <td>-288.7650</td>\n      <td>923.63</td>\n      <td>Critical</td>\n      <td>Kauri Anaru</td>\n      <td>No</td>\n    </tr>\n    <tr>\n      <th>2</th>\n      <td>IN-2014-CR127307-41929</td>\n      <td>2014-10-17</td>\n      <td>2014-10-18</td>\n      <td>First Class</td>\n      <td>Consumer</td>\n      <td>Brisbane</td>\n      <td>Queensland</td>\n      <td>Australia</td>\n      <td>Oceania</td>\n      <td>Asia Pacific</td>\n      <td>...</td>\n      <td>Phones</td>\n      <td>Nokia Smart Phone, with Caller ID</td>\n      <td>5175.171</td>\n      <td>9</td>\n      <td>0.1</td>\n      <td>919.9710</td>\n      <td>915.49</td>\n      <td>Medium</td>\n      <td>Kauri Anaru</td>\n      <td>No</td>\n    </tr>\n    <tr>\n      <th>3</th>\n      <td>ES-2014-KM1637548-41667</td>\n      <td>2014-01-28</td>\n      <td>2014-01-30</td>\n      <td>First Class</td>\n      <td>Home Office</td>\n      <td>Berlin</td>\n      <td>Berlin</td>\n      <td>Germany</td>\n      <td>Western Europe</td>\n      <td>Europe</td>\n      <td>...</td>\n      <td>Phones</td>\n      <td>Motorola Smart Phone, Cordless</td>\n      <td>2892.510</td>\n      <td>5</td>\n      <td>0.1</td>\n      <td>-96.5400</td>\n      <td>910.16</td>\n      <td>Medium</td>\n      <td>Gilbert Wolff</td>\n      <td>No</td>\n    </tr>\n    <tr>\n      <th>4</th>\n      <td>SG-2014-RH9495111-41948</td>\n      <td>2014-11-05</td>\n      <td>2014-11-06</td>\n      <td>Same Day</td>\n      <td>Consumer</td>\n      <td>Dakar</td>\n      <td>Dakar</td>\n      <td>Senegal</td>\n      <td>Western Africa</td>\n      <td>Africa</td>\n      <td>...</td>\n      <td>Copiers</td>\n      <td>Sharp Wireless Fax, High-Speed</td>\n      <td>2832.960</td>\n      <td>8</td>\n      <td>0.0</td>\n      <td>311.5200</td>\n      <td>903.04</td>\n      <td>Critical</td>\n      <td>Katlego Akosua</td>\n      <td>No</td>\n    </tr>\n  </tbody>\n</table>\n<p>5 rows × 21 columns</p>\n</div>"
     },
     "execution_count": 4,
     "metadata": {},
     "output_type": "execute_result"
    }
   ],
   "source": [
    "df = pd.read_excel('../data/superstore.xlsx')\n",
    "df.head()"
   ],
   "metadata": {
    "collapsed": false,
    "ExecuteTime": {
     "end_time": "2024-02-05T11:47:45.082483Z",
     "start_time": "2024-02-05T11:47:21.641745Z"
    }
   },
   "id": "4a10dcabc02ed01f",
   "execution_count": 4
  },
  {
   "cell_type": "code",
   "outputs": [
    {
     "name": "stdout",
     "output_type": "stream",
     "text": [
      "<class 'pandas.core.frame.DataFrame'>\n",
      "RangeIndex: 51290 entries, 0 to 51289\n",
      "Data columns (total 21 columns):\n",
      " #   Column          Non-Null Count  Dtype         \n",
      "---  ------          --------------  -----         \n",
      " 0   Order ID        51290 non-null  object        \n",
      " 1   Order Date      51290 non-null  datetime64[ns]\n",
      " 2   Ship Date       51290 non-null  datetime64[ns]\n",
      " 3   Ship Mode       51290 non-null  object        \n",
      " 4   Segment         51290 non-null  object        \n",
      " 5   City            51290 non-null  object        \n",
      " 6   State           51290 non-null  object        \n",
      " 7   Country         51290 non-null  object        \n",
      " 8   Region          51290 non-null  object        \n",
      " 9   Market          51290 non-null  object        \n",
      " 10  Category        51290 non-null  object        \n",
      " 11  Sub-Category    51290 non-null  object        \n",
      " 12  Product Name    51290 non-null  object        \n",
      " 13  Sales           51290 non-null  float64       \n",
      " 14  Quantity        51290 non-null  int64         \n",
      " 15  Discount        51290 non-null  float64       \n",
      " 16  Profit          51290 non-null  float64       \n",
      " 17  Shipping Cost   51290 non-null  float64       \n",
      " 18  Order Priority  51290 non-null  object        \n",
      " 19  Salsespeople    50906 non-null  object        \n",
      " 20  Returned        51290 non-null  object        \n",
      "dtypes: datetime64[ns](2), float64(4), int64(1), object(14)\n",
      "memory usage: 8.2+ MB\n"
     ]
    }
   ],
   "source": [
    "df.info()"
   ],
   "metadata": {
    "collapsed": false,
    "ExecuteTime": {
     "end_time": "2024-02-05T11:47:48.523797Z",
     "start_time": "2024-02-05T11:47:48.451432Z"
    }
   },
   "id": "f53fcbaf6264a9a8",
   "execution_count": 5
  }
 ],
 "metadata": {
  "kernelspec": {
   "display_name": "Python 3",
   "language": "python",
   "name": "python3"
  },
  "language_info": {
   "codemirror_mode": {
    "name": "ipython",
    "version": 2
   },
   "file_extension": ".py",
   "mimetype": "text/x-python",
   "name": "python",
   "nbconvert_exporter": "python",
   "pygments_lexer": "ipython2",
   "version": "2.7.6"
  }
 },
 "nbformat": 4,
 "nbformat_minor": 5
}
